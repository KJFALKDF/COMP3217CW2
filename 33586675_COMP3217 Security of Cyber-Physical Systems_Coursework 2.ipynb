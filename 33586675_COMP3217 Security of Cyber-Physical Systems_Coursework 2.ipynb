{
 "cells": [
  {
   "cell_type": "markdown",
   "id": "e34aac08",
   "metadata": {},
   "source": [
    "# COMP3217 Security of Cyber-Physical Systems_Coursework 2\n",
    "- Student ID: 33586675\n",
    "- Student Name: QICHENG WANG"
   ]
  },
  {
   "cell_type": "markdown",
   "id": "ad41e67c",
   "metadata": {},
   "source": [
    "## Task A"
   ]
  },
  {
   "cell_type": "markdown",
   "id": "7f48bf66",
   "metadata": {},
   "source": [
    "### 1. Library Import"
   ]
  },
  {
   "cell_type": "code",
   "execution_count": 78,
   "id": "5dd49203",
   "metadata": {},
   "outputs": [],
   "source": [
    "import pandas as pd\n",
    "import numpy as np\n",
    "import matplotlib.pyplot as plt\n",
    "import matplotlib as mpl\n",
    "import random\n",
    "from sklearn import preprocessing\n",
    "from sklearn.svm import SVC\n",
    "from sklearn.model_selection import train_test_split\n",
    "from sklearn.linear_model import LogisticRegression\n",
    "from sklearn.tree import DecisionTreeClassifier\n",
    "from sklearn.ensemble import RandomForestClassifier\n",
    "from sklearn.model_selection import cross_val_score\n",
    "from sklearn.metrics import confusion_matrix, ConfusionMatrixDisplay, f1_score, precision_score, recall_score, accuracy_score"
   ]
  },
  {
   "cell_type": "markdown",
   "id": "c1de23ad",
   "metadata": {},
   "source": [
    "### 2. Dataset import"
   ]
  },
  {
   "cell_type": "code",
   "execution_count": 157,
   "id": "8eaf90c2",
   "metadata": {},
   "outputs": [
    {
     "data": {
      "text/html": [
       "<div>\n",
       "<style scoped>\n",
       "    .dataframe tbody tr th:only-of-type {\n",
       "        vertical-align: middle;\n",
       "    }\n",
       "\n",
       "    .dataframe tbody tr th {\n",
       "        vertical-align: top;\n",
       "    }\n",
       "\n",
       "    .dataframe thead th {\n",
       "        text-align: right;\n",
       "    }\n",
       "</style>\n",
       "<table border=\"1\" class=\"dataframe\">\n",
       "  <thead>\n",
       "    <tr style=\"text-align: right;\">\n",
       "      <th></th>\n",
       "      <th>0</th>\n",
       "      <th>1</th>\n",
       "      <th>2</th>\n",
       "      <th>3</th>\n",
       "      <th>4</th>\n",
       "      <th>5</th>\n",
       "      <th>6</th>\n",
       "      <th>7</th>\n",
       "      <th>8</th>\n",
       "      <th>9</th>\n",
       "      <th>...</th>\n",
       "      <th>119</th>\n",
       "      <th>120</th>\n",
       "      <th>121</th>\n",
       "      <th>122</th>\n",
       "      <th>123</th>\n",
       "      <th>124</th>\n",
       "      <th>125</th>\n",
       "      <th>126</th>\n",
       "      <th>127</th>\n",
       "      <th>128</th>\n",
       "    </tr>\n",
       "  </thead>\n",
       "  <tbody>\n",
       "    <tr>\n",
       "      <th>0</th>\n",
       "      <td>70.399324</td>\n",
       "      <td>127673.0908</td>\n",
       "      <td>-49.572308</td>\n",
       "      <td>127648.0176</td>\n",
       "      <td>-169.578319</td>\n",
       "      <td>127723.2374</td>\n",
       "      <td>65.689611</td>\n",
       "      <td>605.91099</td>\n",
       "      <td>-57.003571</td>\n",
       "      <td>626.78553</td>\n",
       "      <td>...</td>\n",
       "      <td>0</td>\n",
       "      <td>0</td>\n",
       "      <td>0</td>\n",
       "      <td>0</td>\n",
       "      <td>0</td>\n",
       "      <td>0</td>\n",
       "      <td>0</td>\n",
       "      <td>0</td>\n",
       "      <td>0</td>\n",
       "      <td>0</td>\n",
       "    </tr>\n",
       "    <tr>\n",
       "      <th>1</th>\n",
       "      <td>73.688102</td>\n",
       "      <td>130280.7109</td>\n",
       "      <td>-46.300719</td>\n",
       "      <td>130255.6377</td>\n",
       "      <td>-166.278082</td>\n",
       "      <td>130355.9307</td>\n",
       "      <td>71.831719</td>\n",
       "      <td>483.59351</td>\n",
       "      <td>-50.947407</td>\n",
       "      <td>500.98896</td>\n",
       "      <td>...</td>\n",
       "      <td>0</td>\n",
       "      <td>0</td>\n",
       "      <td>0</td>\n",
       "      <td>0</td>\n",
       "      <td>0</td>\n",
       "      <td>0</td>\n",
       "      <td>0</td>\n",
       "      <td>0</td>\n",
       "      <td>0</td>\n",
       "      <td>0</td>\n",
       "    </tr>\n",
       "    <tr>\n",
       "      <th>2</th>\n",
       "      <td>73.733939</td>\n",
       "      <td>130305.7842</td>\n",
       "      <td>-46.254883</td>\n",
       "      <td>130280.7109</td>\n",
       "      <td>-166.232245</td>\n",
       "      <td>130381.0040</td>\n",
       "      <td>71.808800</td>\n",
       "      <td>483.59351</td>\n",
       "      <td>-50.913030</td>\n",
       "      <td>500.98896</td>\n",
       "      <td>...</td>\n",
       "      <td>0</td>\n",
       "      <td>0</td>\n",
       "      <td>0</td>\n",
       "      <td>0</td>\n",
       "      <td>0</td>\n",
       "      <td>0</td>\n",
       "      <td>0</td>\n",
       "      <td>0</td>\n",
       "      <td>0</td>\n",
       "      <td>0</td>\n",
       "    </tr>\n",
       "    <tr>\n",
       "      <th>3</th>\n",
       "      <td>74.083443</td>\n",
       "      <td>130581.5902</td>\n",
       "      <td>-45.899649</td>\n",
       "      <td>130556.5169</td>\n",
       "      <td>-165.882741</td>\n",
       "      <td>130656.8100</td>\n",
       "      <td>72.152575</td>\n",
       "      <td>482.86107</td>\n",
       "      <td>-50.437475</td>\n",
       "      <td>499.15786</td>\n",
       "      <td>...</td>\n",
       "      <td>0</td>\n",
       "      <td>0</td>\n",
       "      <td>0</td>\n",
       "      <td>0</td>\n",
       "      <td>0</td>\n",
       "      <td>0</td>\n",
       "      <td>0</td>\n",
       "      <td>0</td>\n",
       "      <td>0</td>\n",
       "      <td>0</td>\n",
       "    </tr>\n",
       "    <tr>\n",
       "      <th>4</th>\n",
       "      <td>74.553268</td>\n",
       "      <td>131083.0556</td>\n",
       "      <td>-45.424094</td>\n",
       "      <td>131057.9823</td>\n",
       "      <td>-165.424375</td>\n",
       "      <td>131158.2754</td>\n",
       "      <td>72.118198</td>\n",
       "      <td>484.50906</td>\n",
       "      <td>-50.013486</td>\n",
       "      <td>497.69298</td>\n",
       "      <td>...</td>\n",
       "      <td>0</td>\n",
       "      <td>0</td>\n",
       "      <td>0</td>\n",
       "      <td>0</td>\n",
       "      <td>0</td>\n",
       "      <td>0</td>\n",
       "      <td>0</td>\n",
       "      <td>0</td>\n",
       "      <td>0</td>\n",
       "      <td>0</td>\n",
       "    </tr>\n",
       "    <tr>\n",
       "      <th>...</th>\n",
       "      <td>...</td>\n",
       "      <td>...</td>\n",
       "      <td>...</td>\n",
       "      <td>...</td>\n",
       "      <td>...</td>\n",
       "      <td>...</td>\n",
       "      <td>...</td>\n",
       "      <td>...</td>\n",
       "      <td>...</td>\n",
       "      <td>...</td>\n",
       "      <td>...</td>\n",
       "      <td>...</td>\n",
       "      <td>...</td>\n",
       "      <td>...</td>\n",
       "      <td>...</td>\n",
       "      <td>...</td>\n",
       "      <td>...</td>\n",
       "      <td>...</td>\n",
       "      <td>...</td>\n",
       "      <td>...</td>\n",
       "      <td>...</td>\n",
       "    </tr>\n",
       "    <tr>\n",
       "      <th>5995</th>\n",
       "      <td>116.889120</td>\n",
       "      <td>131860.3269</td>\n",
       "      <td>-3.076783</td>\n",
       "      <td>131810.1804</td>\n",
       "      <td>-123.094253</td>\n",
       "      <td>131910.4735</td>\n",
       "      <td>114.780635</td>\n",
       "      <td>376.10794</td>\n",
       "      <td>-5.254023</td>\n",
       "      <td>374.82617</td>\n",
       "      <td>...</td>\n",
       "      <td>0</td>\n",
       "      <td>0</td>\n",
       "      <td>0</td>\n",
       "      <td>0</td>\n",
       "      <td>0</td>\n",
       "      <td>0</td>\n",
       "      <td>0</td>\n",
       "      <td>0</td>\n",
       "      <td>0</td>\n",
       "      <td>0</td>\n",
       "    </tr>\n",
       "    <tr>\n",
       "      <th>5996</th>\n",
       "      <td>116.849013</td>\n",
       "      <td>131810.1804</td>\n",
       "      <td>-3.116890</td>\n",
       "      <td>131760.0339</td>\n",
       "      <td>-123.128630</td>\n",
       "      <td>131885.4002</td>\n",
       "      <td>114.769176</td>\n",
       "      <td>376.29105</td>\n",
       "      <td>-5.322778</td>\n",
       "      <td>374.82617</td>\n",
       "      <td>...</td>\n",
       "      <td>0</td>\n",
       "      <td>0</td>\n",
       "      <td>0</td>\n",
       "      <td>0</td>\n",
       "      <td>0</td>\n",
       "      <td>0</td>\n",
       "      <td>0</td>\n",
       "      <td>0</td>\n",
       "      <td>0</td>\n",
       "      <td>0</td>\n",
       "    </tr>\n",
       "    <tr>\n",
       "      <th>5997</th>\n",
       "      <td>116.384917</td>\n",
       "      <td>131734.9606</td>\n",
       "      <td>-3.586716</td>\n",
       "      <td>131684.8140</td>\n",
       "      <td>-123.586996</td>\n",
       "      <td>131785.1071</td>\n",
       "      <td>114.299351</td>\n",
       "      <td>376.47416</td>\n",
       "      <td>-5.849899</td>\n",
       "      <td>374.82617</td>\n",
       "      <td>...</td>\n",
       "      <td>0</td>\n",
       "      <td>0</td>\n",
       "      <td>0</td>\n",
       "      <td>0</td>\n",
       "      <td>0</td>\n",
       "      <td>0</td>\n",
       "      <td>0</td>\n",
       "      <td>0</td>\n",
       "      <td>0</td>\n",
       "      <td>0</td>\n",
       "    </tr>\n",
       "    <tr>\n",
       "      <th>5998</th>\n",
       "      <td>111.125164</td>\n",
       "      <td>130506.3704</td>\n",
       "      <td>-8.846468</td>\n",
       "      <td>130456.2238</td>\n",
       "      <td>-128.858208</td>\n",
       "      <td>130556.5169</td>\n",
       "      <td>106.667553</td>\n",
       "      <td>478.83265</td>\n",
       "      <td>-13.464508</td>\n",
       "      <td>477.73399</td>\n",
       "      <td>...</td>\n",
       "      <td>0</td>\n",
       "      <td>0</td>\n",
       "      <td>0</td>\n",
       "      <td>0</td>\n",
       "      <td>0</td>\n",
       "      <td>0</td>\n",
       "      <td>0</td>\n",
       "      <td>0</td>\n",
       "      <td>0</td>\n",
       "      <td>0</td>\n",
       "    </tr>\n",
       "    <tr>\n",
       "      <th>5999</th>\n",
       "      <td>110.878793</td>\n",
       "      <td>130481.2971</td>\n",
       "      <td>-9.092840</td>\n",
       "      <td>130456.2238</td>\n",
       "      <td>-129.104580</td>\n",
       "      <td>130556.5169</td>\n",
       "      <td>106.392533</td>\n",
       "      <td>478.83265</td>\n",
       "      <td>-13.750987</td>\n",
       "      <td>477.91710</td>\n",
       "      <td>...</td>\n",
       "      <td>0</td>\n",
       "      <td>0</td>\n",
       "      <td>0</td>\n",
       "      <td>0</td>\n",
       "      <td>0</td>\n",
       "      <td>0</td>\n",
       "      <td>0</td>\n",
       "      <td>0</td>\n",
       "      <td>0</td>\n",
       "      <td>0</td>\n",
       "    </tr>\n",
       "  </tbody>\n",
       "</table>\n",
       "<p>6000 rows × 129 columns</p>\n",
       "</div>"
      ],
      "text/plain": [
       "             0            1          2            3           4     \n",
       "0      70.399324  127673.0908 -49.572308  127648.0176 -169.578319  \\\n",
       "1      73.688102  130280.7109 -46.300719  130255.6377 -166.278082   \n",
       "2      73.733939  130305.7842 -46.254883  130280.7109 -166.232245   \n",
       "3      74.083443  130581.5902 -45.899649  130556.5169 -165.882741   \n",
       "4      74.553268  131083.0556 -45.424094  131057.9823 -165.424375   \n",
       "...          ...          ...        ...          ...         ...   \n",
       "5995  116.889120  131860.3269  -3.076783  131810.1804 -123.094253   \n",
       "5996  116.849013  131810.1804  -3.116890  131760.0339 -123.128630   \n",
       "5997  116.384917  131734.9606  -3.586716  131684.8140 -123.586996   \n",
       "5998  111.125164  130506.3704  -8.846468  130456.2238 -128.858208   \n",
       "5999  110.878793  130481.2971  -9.092840  130456.2238 -129.104580   \n",
       "\n",
       "              5           6          7          8          9    ...  119  120   \n",
       "0     127723.2374   65.689611  605.91099 -57.003571  626.78553  ...    0    0  \\\n",
       "1     130355.9307   71.831719  483.59351 -50.947407  500.98896  ...    0    0   \n",
       "2     130381.0040   71.808800  483.59351 -50.913030  500.98896  ...    0    0   \n",
       "3     130656.8100   72.152575  482.86107 -50.437475  499.15786  ...    0    0   \n",
       "4     131158.2754   72.118198  484.50906 -50.013486  497.69298  ...    0    0   \n",
       "...           ...         ...        ...        ...        ...  ...  ...  ...   \n",
       "5995  131910.4735  114.780635  376.10794  -5.254023  374.82617  ...    0    0   \n",
       "5996  131885.4002  114.769176  376.29105  -5.322778  374.82617  ...    0    0   \n",
       "5997  131785.1071  114.299351  376.47416  -5.849899  374.82617  ...    0    0   \n",
       "5998  130556.5169  106.667553  478.83265 -13.464508  477.73399  ...    0    0   \n",
       "5999  130556.5169  106.392533  478.83265 -13.750987  477.91710  ...    0    0   \n",
       "\n",
       "      121  122  123  124  125  126  127  128  \n",
       "0       0    0    0    0    0    0    0    0  \n",
       "1       0    0    0    0    0    0    0    0  \n",
       "2       0    0    0    0    0    0    0    0  \n",
       "3       0    0    0    0    0    0    0    0  \n",
       "4       0    0    0    0    0    0    0    0  \n",
       "...   ...  ...  ...  ...  ...  ...  ...  ...  \n",
       "5995    0    0    0    0    0    0    0    0  \n",
       "5996    0    0    0    0    0    0    0    0  \n",
       "5997    0    0    0    0    0    0    0    0  \n",
       "5998    0    0    0    0    0    0    0    0  \n",
       "5999    0    0    0    0    0    0    0    0  \n",
       "\n",
       "[6000 rows x 129 columns]"
      ]
     },
     "execution_count": 157,
     "metadata": {},
     "output_type": "execute_result"
    }
   ],
   "source": [
    "data_train = pd.read_csv('TrainingDataBinary.csv', header=None) # import binary-labelled training data\n",
    "data_test = pd.read_csv('TestingDataBinary.csv', header=None)# import binary-labelled testing data\n",
    "data_train"
   ]
  },
  {
   "cell_type": "markdown",
   "id": "c2db7882",
   "metadata": {},
   "source": [
    "### 3. Extract Features and Target Data"
   ]
  },
  {
   "cell_type": "code",
   "execution_count": 163,
   "id": "8dcf237d",
   "metadata": {},
   "outputs": [
    {
     "data": {
      "text/plain": [
       "array([[ 7.03993240e+01,  1.27673091e+05, -4.95723080e+01, ...,\n",
       "         0.00000000e+00,  0.00000000e+00,  0.00000000e+00],\n",
       "       [ 7.36881020e+01,  1.30280711e+05, -4.63007190e+01, ...,\n",
       "         0.00000000e+00,  0.00000000e+00,  0.00000000e+00],\n",
       "       [ 7.37339390e+01,  1.30305784e+05, -4.62548830e+01, ...,\n",
       "         0.00000000e+00,  0.00000000e+00,  0.00000000e+00],\n",
       "       ...,\n",
       "       [-8.41904180e+01,  1.31183349e+05,  1.55827332e+02, ...,\n",
       "         0.00000000e+00,  0.00000000e+00,  0.00000000e+00],\n",
       "       [-1.43033184e+02,  1.31459155e+05,  9.69788360e+01, ...,\n",
       "         0.00000000e+00,  0.00000000e+00,  0.00000000e+00],\n",
       "       [ 6.63026760e+01,  1.31434081e+05, -5.36632270e+01, ...,\n",
       "         0.00000000e+00,  0.00000000e+00,  0.00000000e+00]])"
      ]
     },
     "execution_count": 163,
     "metadata": {},
     "output_type": "execute_result"
    }
   ],
   "source": [
    "train_dataset = data_train.values # get the values of all data\n",
    "random.shuffle(train_dataset) # shuffle the dataset\n",
    "feature_data = train_dataset[:,0:-1] # assigmn data into features set except first column and last column\n",
    "target_data = train_dataset[:,-1] # assign the last column data into target set\n",
    "test_dataset = data_test.values\n",
    "x_test = test_dataset # assigmn data into features set except first column and last column\n",
    "feature_data"
   ]
  },
  {
   "cell_type": "markdown",
   "id": "d2a5e1b2",
   "metadata": {},
   "source": [
    "### 4. Split Train, Test Data"
   ]
  },
  {
   "cell_type": "code",
   "execution_count": 164,
   "id": "fdba80e4",
   "metadata": {},
   "outputs": [],
   "source": [
    "X_train, X_test, y_train, y_test = train_test_split(feature_data, target_data, test_size=0.2, random_state=50) # split the feature and target set into 80% training set and 20% testing set with random seed 50"
   ]
  },
  {
   "cell_type": "markdown",
   "id": "eba6a50f",
   "metadata": {},
   "source": [
    "### 5. Model Trainning"
   ]
  },
  {
   "cell_type": "code",
   "execution_count": 165,
   "id": "e0d6faea",
   "metadata": {},
   "outputs": [
    {
     "name": "stdout",
     "output_type": "stream",
     "text": [
      "RandomForest score: 0.995833\n"
     ]
    }
   ],
   "source": [
    "rf = RandomForestClassifier(n_estimators = 1000, min_samples_leaf =1).fit(X_train, y_train) # initialise the randomforest parameters and train the model\n",
    "print(\n",
    "    \"RandomForest score: %f\"\n",
    "    % rf.score(X_test, y_test)) # output the testing score with test data"
   ]
  },
  {
   "cell_type": "markdown",
   "id": "2bbb7794",
   "metadata": {},
   "source": [
    "### 6. Evaluation"
   ]
  },
  {
   "cell_type": "code",
   "execution_count": 166,
   "id": "14216f6a",
   "metadata": {
    "scrolled": true
   },
   "outputs": [
    {
     "name": "stdout",
     "output_type": "stream",
     "text": [
      "0.9956548262919019\n",
      "0.9958719018072084\n",
      "0.9957626370522079\n",
      "0.9958333333333333\n"
     ]
    },
    {
     "data": {
      "image/png": "[encoded data removed]",
      "text/plain": [
       "<Figure size 640x480 with 2 Axes>"
      ]
     },
     "metadata": {},
     "output_type": "display_data"
    }
   ],
   "source": [
    "predictions = rf.predict(X_test) # predict the test data\n",
    "print (precision_score(y_test, predictions, average='macro')) # calculate precision score\n",
    "print (recall_score(y_test, predictions, average='macro'))# calculate recall score\n",
    "print (f1_score(y_test, predictions, average='macro'))# calculate f1-score\n",
    "print (accuracy_score(y_test, predictions))# calculate accuracy score\n",
    "\n",
    "\n",
    "#get confusion matrix\n",
    "cm = confusion_matrix(y_test, predictions, labels=rf.classes_)\n",
    "disp = ConfusionMatrixDisplay(confusion_matrix=cm,display_labels=rf.classes_)\n",
    "disp.plot()\n",
    "plt.show()"
   ]
  },
  {
   "cell_type": "code",
   "execution_count": 167,
   "id": "5a1d7aaf",
   "metadata": {},
   "outputs": [
    {
     "data": {
      "text/plain": [
       "0.9925"
      ]
     },
     "execution_count": 167,
     "metadata": {},
     "output_type": "execute_result"
    }
   ],
   "source": [
    "# 10-fold cross validation\n",
    "accuracy_set = cross_val_score(rf,feature_data,target_data,cv =10 )\n",
    "accuracy_set.mean()"
   ]
  },
  {
   "cell_type": "markdown",
   "id": "57905432",
   "metadata": {},
   "source": [
    "### 7. Apply to Testing Data"
   ]
  },
  {
   "cell_type": "code",
   "execution_count": 168,
   "id": "392622c2",
   "metadata": {},
   "outputs": [
    {
     "data": {
      "text/plain": [
       "array([1., 1., 1., 1., 1., 1., 1., 1., 1., 1., 1., 1., 1., 1., 1., 1., 1.,\n",
       "       1., 1., 1., 1., 1., 1., 1., 1., 1., 1., 1., 1., 1., 1., 1., 1., 1.,\n",
       "       1., 1., 1., 1., 1., 1., 1., 1., 1., 1., 1., 1., 1., 1., 1., 1., 0.,\n",
       "       0., 0., 0., 0., 0., 0., 0., 0., 0., 0., 0., 0., 0., 0., 0., 0., 0.,\n",
       "       1., 1., 1., 1., 1., 1., 1., 0., 0., 0., 0., 0., 0., 0., 0., 0., 0.,\n",
       "       0., 0., 0., 0., 0., 0., 0., 0., 0., 0., 0., 0., 0., 0., 0.])"
      ]
     },
     "execution_count": 168,
     "metadata": {},
     "output_type": "execute_result"
    }
   ],
   "source": [
    "# Predict the provide testing data\n",
    "case_predictions = rf.predict(x_test)\n",
    "case_predictions"
   ]
  },
  {
   "cell_type": "markdown",
   "id": "20b501ec",
   "metadata": {},
   "source": [
    "### 8. Output Testing Result"
   ]
  },
  {
   "cell_type": "code",
   "execution_count": 58,
   "id": "f07d98a0",
   "metadata": {},
   "outputs": [],
   "source": [
    "predictions_df = pd.DataFrame(case_predictions) # Turn prediciton array into Dataframe\n",
    "data_test['128'] = case_predictions # Add the predictions to the 129th column of the data\n",
    "data_test.to_csv(r\".\\TestingResultsBinary.csv\",index=False,header=False) # export as .csv file"
   ]
  },
  {
   "cell_type": "markdown",
   "id": "714e23b1",
   "metadata": {},
   "source": [
    "## Task B"
   ]
  },
  {
   "cell_type": "markdown",
   "id": "2badfbcf",
   "metadata": {},
   "source": [
    "### 1. Dataset Import"
   ]
  },
  {
   "cell_type": "code",
   "execution_count": 150,
   "id": "bc4f6c75",
   "metadata": {},
   "outputs": [],
   "source": [
    "data_train = pd.read_csv('TrainingDataMulti.csv', header=None) # import multi-labelled training data\n",
    "data_test = pd.read_csv('TestingDataMulti.csv', header=None)  # import multi-labelled testing data"
   ]
  },
  {
   "cell_type": "markdown",
   "id": "f71751a4",
   "metadata": {},
   "source": [
    "### 2. Dataset Import"
   ]
  },
  {
   "cell_type": "code",
   "execution_count": 151,
   "id": "d2774d78",
   "metadata": {},
   "outputs": [],
   "source": [
    "train_dataset = data_train.values # get the values of all data\n",
    "random.shuffle(train_dataset) # shuffle the dataset\n",
    "X_train = train_dataset[:,0:-1] # assigmn data into features set except first column and last column\n",
    "y_train = train_dataset[:,-1] # assign the last column data into target set\n",
    "\n",
    "test_dataset = data_test.values\n",
    "x_test = test_dataset # assigmn data into features set except first column and last column"
   ]
  },
  {
   "cell_type": "markdown",
   "id": "c385d489",
   "metadata": {},
   "source": [
    "### 3. Extract Features and Target Data"
   ]
  },
  {
   "cell_type": "code",
   "execution_count": 152,
   "id": "b5c64765",
   "metadata": {},
   "outputs": [],
   "source": [
    "X_train, X_test, y_train, y_test = train_test_split(X_train, y_train, test_size=0.2, random_state=50) # split the feature and target set into 80% training set and 20% testing set with random seed 50"
   ]
  },
  {
   "cell_type": "markdown",
   "id": "79078540",
   "metadata": {},
   "source": [
    "### 4. Model Trainning"
   ]
  },
  {
   "cell_type": "code",
   "execution_count": 153,
   "id": "473a5436",
   "metadata": {},
   "outputs": [
    {
     "name": "stdout",
     "output_type": "stream",
     "text": [
      "RandomForest score: 0.961667\n"
     ]
    }
   ],
   "source": [
    "rf = RandomForestClassifier(n_estimators = 1000, min_samples_leaf =1).fit(X_train, y_train) # initialise the randomforest parameters and train the model\n",
    "print(\n",
    "    \"RandomForest score: %f\"\n",
    "    % rf.score(X_test, y_test))# output the testing score with test data"
   ]
  },
  {
   "cell_type": "markdown",
   "id": "08fd115e",
   "metadata": {},
   "source": [
    "### 5. Evaluation"
   ]
  },
  {
   "cell_type": "code",
   "execution_count": 154,
   "id": "7f2a7ccc",
   "metadata": {},
   "outputs": [
    {
     "name": "stdout",
     "output_type": "stream",
     "text": [
      "0.9520247802885344\n",
      "0.9528352043915715\n",
      "0.9523231911094737\n",
      "0.9616666666666667\n"
     ]
    },
    {
     "data": {
      "image/png": "[encoded data removed]",
      "text/plain": [
       "<Figure size 640x480 with 2 Axes>"
      ]
     },
     "metadata": {},
     "output_type": "display_data"
    }
   ],
   "source": [
    "predictions = rf.predict(X_test) # predict the test data\n",
    "print (precision_score(y_test, predictions, average='macro')) # calculate precision score\n",
    "print (recall_score(y_test, predictions, average='macro'))# calculate recall score\n",
    "print (f1_score(y_test, predictions, average='macro'))# calculate f1-score\n",
    "print (accuracy_score(y_test, predictions))# calculate accuracy score\n",
    "\n",
    "\n",
    "#get confusion matrix\n",
    "cm = confusion_matrix(y_test, predictions, labels=rf.classes_)\n",
    "disp = ConfusionMatrixDisplay(confusion_matrix=cm,display_labels=rf.classes_)\n",
    "disp.plot()\n",
    "plt.show()"
   ]
  },
  {
   "cell_type": "code",
   "execution_count": 155,
   "id": "b74af05b",
   "metadata": {},
   "outputs": [
    {
     "data": {
      "text/plain": [
       "0.9711666666666667"
      ]
     },
     "execution_count": 155,
     "metadata": {},
     "output_type": "execute_result"
    }
   ],
   "source": [
    "# 10-fold cross validation\n",
    "accuracy_set = cross_val_score(rf,feature_data,target_data,cv =10 )\n",
    "accuracy_set.mean()"
   ]
  },
  {
   "cell_type": "markdown",
   "id": "63f8bf84",
   "metadata": {},
   "source": [
    "### 6. Apply to Case Data"
   ]
  },
  {
   "cell_type": "code",
   "execution_count": 65,
   "id": "6460642c",
   "metadata": {},
   "outputs": [
    {
     "data": {
      "text/plain": [
       "array([2., 2., 2., 2., 2., 2., 1., 1., 2., 2., 2., 1., 1., 1., 1., 1., 2.,\n",
       "       1., 1., 1., 1., 1., 2., 2., 2., 2., 2., 2., 2., 2., 2., 2., 2., 1.,\n",
       "       1., 1., 1., 1., 2., 1., 1., 2., 2., 2., 2., 2., 2., 2., 2., 1., 2.,\n",
       "       2., 2., 1., 2., 2., 2., 1., 1., 1., 1., 1., 1., 1., 1., 1., 0., 0.,\n",
       "       0., 0., 0., 0., 0., 0., 0., 0., 0., 0., 0., 0., 0., 0., 0., 0., 1.,\n",
       "       1., 1., 1., 1., 1., 1., 0., 0., 0., 0., 0., 0., 0., 0., 0.])"
      ]
     },
     "execution_count": 65,
     "metadata": {},
     "output_type": "execute_result"
    }
   ],
   "source": [
    "# Predict the provide testing data\n",
    "case_predictions = rf.predict(x_test)\n",
    "case_predictions"
   ]
  },
  {
   "cell_type": "markdown",
   "id": "873f1fcf",
   "metadata": {},
   "source": [
    "### 7. Output Testing Results"
   ]
  },
  {
   "cell_type": "code",
   "execution_count": 66,
   "id": "6930e804",
   "metadata": {},
   "outputs": [],
   "source": [
    "predictions_df = pd.DataFrame(case_predictions)# Turn prediciton array into Dataframe\n",
    "data_test['128'] = case_predictions# Add the predictions to the 129th column of the data\n",
    "data_test.to_csv(r\".\\TestingResultsMulti.csv\",index=False,header=False) # export as .csv file"
   ]
  }
 ],
 "metadata": {
  "kernelspec": {
   "display_name": "Python 3 (ipykernel)",
   "language": "python",
   "name": "python3"
  },
  "language_info": {
   "codemirror_mode": {
    "name": "ipython",
    "version": 3
   },
   "file_extension": ".py",
   "mimetype": "text/x-python",
   "name": "python",
   "nbconvert_exporter": "python",
   "pygments_lexer": "ipython3",
   "version": "3.10.11"
  }
 },
 "nbformat": 4,
 "nbformat_minor": 5
}
